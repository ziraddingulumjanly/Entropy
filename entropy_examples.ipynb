{
 "cells": [
  {
   "cell_type": "markdown",
   "metadata": {},
   "source": [
    " Entropy Calculation"
   ]
  },
  {
   "cell_type": "code",
   "execution_count": 1,
   "metadata": {},
   "outputs": [
    {
     "name": "stdout",
     "output_type": "stream",
     "text": [
      "Entropy of system: 0.881\n"
     ]
    }
   ],
   "source": [
    "import numpy as np\n",
    "\n",
    "def log2(x):\n",
    "    return np.log2(x)\n",
    "\n",
    "# Entropy Calculation: Given a probability distribution\n",
    "prob_dist = [0.7, 0.3]\n",
    "\n",
    "def entropy_calc(probabilities):\n",
    "    return -np.sum([p * log2(p) for p in probabilities if p > 0])\n",
    "\n",
    "H = entropy_calc(prob_dist)\n",
    "print(f\"Entropy of system: {H:.3f}\")\n"
   ]
  },
  {
   "cell_type": "markdown",
   "metadata": {},
   "source": [
    "Conditional Entropy"
   ]
  },
  {
   "cell_type": "code",
   "execution_count": 2,
   "metadata": {},
   "outputs": [
    {
     "name": "stdout",
     "output_type": "stream",
     "text": [
      "Conditional Entropy H(A|B): 0.846\n"
     ]
    }
   ],
   "source": [
    "import numpy as np\n",
    "\n",
    "def log2(x):\n",
    "    return np.log2(x)\n",
    "\n",
    "def entropy_calc(probabilities):\n",
    "    return -np.sum([p * log2(p) for p in probabilities if p > 0])\n",
    "\n",
    "def conditional_entropy(joint_probs, marginal_probs_b):\n",
    "    cond_entropy = 0\n",
    "    for b, p_b in enumerate(marginal_probs_b):\n",
    "        if p_b > 0:\n",
    "            p_a_given_b = joint_probs[:, b] / p_b\n",
    "            cond_entropy += p_b * entropy_calc(p_a_given_b)\n",
    "    return cond_entropy\n",
    "\n",
    "# Joint probability matrix and marginal probability for B\n",
    "joint_prob_matrix = np.array([[0.3, 0.1], [0.2, 0.4]])\n",
    "marginal_prob_B = np.sum(joint_prob_matrix, axis=0)  # Marginal probability for B\n",
    "\n",
    "H_A_given_B = conditional_entropy(joint_prob_matrix, marginal_prob_B)\n",
    "print(f\"Conditional Entropy H(A|B): {H_A_given_B:.3f}\")\n"
   ]
  },
  {
   "cell_type": "markdown",
   "metadata": {},
   "source": [
    "Joint Entropy"
   ]
  },
  {
   "cell_type": "code",
   "execution_count": 3,
   "metadata": {},
   "outputs": [
    {
     "name": "stdout",
     "output_type": "stream",
     "text": [
      "Joint Entropy H(A, B): 1.846\n"
     ]
    }
   ],
   "source": [
    "import numpy as np\n",
    "\n",
    "def log2(x):\n",
    "    return np.log2(x)\n",
    "\n",
    "def joint_entropy(joint_probs):\n",
    "    return -np.sum([p * log2(p) for p in joint_probs.flatten() if p > 0])\n",
    "\n",
    "# Joint probability matrix\n",
    "joint_prob_matrix = np.array([[0.3, 0.1], [0.2, 0.4]])\n",
    "\n",
    "H_AB = joint_entropy(joint_prob_matrix)\n",
    "print(f\"Joint Entropy H(A, B): {H_AB:.3f}\")\n"
   ]
  },
  {
   "cell_type": "markdown",
   "metadata": {},
   "source": [
    "Information Gain"
   ]
  },
  {
   "cell_type": "code",
   "execution_count": 4,
   "metadata": {},
   "outputs": [
    {
     "name": "stdout",
     "output_type": "stream",
     "text": [
      "Information Gain after splitting on X: 0.046\n"
     ]
    }
   ],
   "source": [
    "import numpy as np\n",
    "\n",
    "def log2(x):\n",
    "    return np.log2(x)\n",
    "\n",
    "def entropy_calc(probabilities):\n",
    "    return -np.sum([p * log2(p) for p in probabilities if p > 0])\n",
    "\n",
    "def information_gain(H_total, H_splits, split_weights):\n",
    "    return H_total - np.sum([w * h for w, h in zip(split_weights, H_splits)])\n",
    "\n",
    "# Initial entropy H(Y)\n",
    "H_Y = entropy_calc([0.6, 0.4])\n",
    "\n",
    "# Entropies after splitting\n",
    "H_Y_given_X1 = entropy_calc([0.75, 0.25])\n",
    "H_Y_given_X2 = entropy_calc([0.5, 0.5])\n",
    "\n",
    "# Weights of the splits\n",
    "weights = [0.4, 0.6]  # Based on the size of the subsets\n",
    "\n",
    "# Information gain\n",
    "IG_X = information_gain(H_Y, [H_Y_given_X1, H_Y_given_X2], weights)\n",
    "print(f\"Information Gain after splitting on X: {IG_X:.3f}\")\n"
   ]
  },
  {
   "cell_type": "markdown",
   "metadata": {},
   "source": [
    "Mutual Information"
   ]
  },
  {
   "cell_type": "code",
   "execution_count": 5,
   "metadata": {},
   "outputs": [
    {
     "name": "stdout",
     "output_type": "stream",
     "text": [
      "Mutual Information I(A;B): 0.500\n"
     ]
    }
   ],
   "source": [
    "def mutual_information(H_a, H_b, H_ab):\n",
    "    return H_a + H_b - H_ab\n",
    "\n",
    "# Given entropies\n",
    "H_A = 1.0\n",
    "H_B = 1.0\n",
    "H_A_B = 1.5\n",
    "\n",
    "# Calculate mutual information\n",
    "I_A_B = mutual_information(H_A, H_B, H_A_B)\n",
    "print(f\"Mutual Information I(A;B): {I_A_B:.3f}\")\n"
   ]
  },
  {
   "cell_type": "markdown",
   "metadata": {},
   "source": [
    "Mutual Information from Joint Entropy"
   ]
  },
  {
   "cell_type": "code",
   "execution_count": 6,
   "metadata": {},
   "outputs": [
    {
     "name": "stdout",
     "output_type": "stream",
     "text": [
      "Mutual Information based on joint entropy: 0.500\n"
     ]
    }
   ],
   "source": [
    "def mutual_information(H_a, H_b, H_ab):\n",
    "    return H_a + H_b - H_ab\n",
    "\n",
    "# Given entropies\n",
    "H_A = 1.0\n",
    "H_B = 1.0\n",
    "H_A_B = 1.5\n",
    "\n",
    "# Mutual information calculation\n",
    "I_A_B_joint = mutual_information(H_A, H_B, H_A_B)\n",
    "print(f\"Mutual Information based on joint entropy: {I_A_B_joint:.3f}\")\n"
   ]
  }
 ],
 "metadata": {
  "kernelspec": {
   "display_name": "Python 3",
   "language": "python",
   "name": "python3"
  },
  "language_info": {
   "codemirror_mode": {
    "name": "ipython",
    "version": 3
   },
   "file_extension": ".py",
   "mimetype": "text/x-python",
   "name": "python",
   "nbconvert_exporter": "python",
   "pygments_lexer": "ipython3",
   "version": "3.11.4"
  }
 },
 "nbformat": 4,
 "nbformat_minor": 2
}
